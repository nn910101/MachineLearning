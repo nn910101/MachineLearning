{
  "nbformat": 4,
  "nbformat_minor": 0,
  "metadata": {
    "colab": {
      "provenance": []
    },
    "kernelspec": {
      "name": "python3",
      "display_name": "Python 3"
    },
    "language_info": {
      "name": "python"
    }
  },
  "cells": [
    {
      "cell_type": "code",
      "execution_count": 1,
      "metadata": {
        "colab": {
          "base_uri": "https://localhost:8080/"
        },
        "id": "-Jwjr24lXzIj",
        "outputId": "d7ef2fc9-5f13-4e83-bcd7-99c5ff19f82a"
      },
      "outputs": [
        {
          "output_type": "stream",
          "name": "stdout",
          "text": [
            "訓練資料正確率: 0.9428571428571428\n",
            "測試資料正確率: 1.0\n",
            "標準答案: [2 1 0 2 0 2 0 1 1 1 2 1 1 1 1 0 1 1 0 0 2 1 0 0 2 0 0 1 1 0 2 1 0 2 2 1 0\n",
            " 1 1 1 2 0 2 0 0]\n",
            "預測答案: [2 1 0 2 0 2 0 1 1 1 2 1 1 1 1 0 1 1 0 0 2 1 0 0 2 0 0 1 1 0 2 1 0 2 2 1 0\n",
            " 1 1 1 2 0 2 0 0]\n"
          ]
        }
      ],
      "source": [
        "from sklearn import datasets\n",
        "from sklearn.naive_bayes import GaussianNB\n",
        "from sklearn.model_selection import train_test_split\n",
        " \n",
        "iris=datasets.load_iris()\n",
        "x=iris.data\n",
        "y=iris.target\n",
        "train_data, test_data, train_label, test_label = train_test_split(x, y,test_size=0.3,random_state=0)\n",
        "clf=GaussianNB()\n",
        "clf.fit(train_data,train_label)\n",
        "print(\"訓練資料正確率:\",clf.score(train_data,train_label)) # 訓練資料正確率\n",
        "print(\"測試資料正確率:\",clf.score(test_data, test_label)) # 測試資料正確率\n",
        "predict=clf.predict(test_data)\n",
        "print(\"標準答案:\",test_label) # 標準答案\n",
        "print(\"預測答案:\",predict) # 預測答案"
      ]
    },
    {
      "cell_type": "code",
      "source": [
        "from sklearn.linear_model import LogisticRegression\n",
        "from sklearn.model_selection import RandomizedSearchCV\n",
        "from scipy.stats import uniform\n",
        "# 載入鳶尾花朵資料集\n",
        "# 建立邏輯迴歸模型\n",
        "logistic = LogisticRegression(solver='saga', tol=1e-2, max_iter=200, random_state=0)\n",
        "# 設定欲搜尋的超參數並給予一個期望的範圍\n",
        "distributions = dict(C=uniform(loc=0, scale=4),\n",
        "                     penalty=['l2', 'l1'])\n",
        "# 隨機搜索預設 n_iter=10\n",
        "clf = RandomizedSearchCV(logistic, distributions, random_state=0, n_iter=10)\n",
        "# 擬合數據並回傳最佳模型\n",
        "search = clf.fit(iris.data, iris.target)\n",
        "search.best_params_\n",
        "search.cv_results_"
      ],
      "metadata": {
        "id": "ViOBkUwMX6qC",
        "outputId": "30ddbec6-2aa2-424c-9f58-f5d887b548bc",
        "colab": {
          "base_uri": "https://localhost:8080/"
        }
      },
      "execution_count": 2,
      "outputs": [
        {
          "output_type": "execute_result",
          "data": {
            "text/plain": [
              "{'mean_fit_time': array([0.02267437, 0.00739698, 0.00466456, 0.00391717, 0.00369167,\n",
              "        0.00302153, 0.00370889, 0.00388999, 0.0048563 , 0.00386667]),\n",
              " 'std_fit_time': array([2.25730661e-02, 4.86703508e-03, 3.05631551e-04, 1.59142600e-04,\n",
              "        8.42360879e-05, 9.18025344e-05, 8.71289142e-05, 4.97840373e-05,\n",
              "        5.39679114e-04, 3.28593914e-04]),\n",
              " 'mean_score_time': array([0.00429335, 0.00098305, 0.00090408, 0.00082598, 0.00080051,\n",
              "        0.00080657, 0.00082417, 0.00105662, 0.00093699, 0.00077553]),\n",
              " 'std_score_time': array([4.29346873e-03, 1.52538739e-04, 5.51622487e-05, 7.63013359e-05,\n",
              "        1.52353763e-05, 3.59625008e-05, 4.62714877e-05, 4.54848649e-04,\n",
              "        1.50606810e-04, 8.06442024e-05]),\n",
              " 'param_C': masked_array(data=[2.195254015709299, 3.3770629943240693,\n",
              "                    2.1795327319875875, 2.4942547871438894,\n",
              "                    1.75034884505077, 0.22685190926977272,\n",
              "                    1.5337660753031108, 3.2486749151019727,\n",
              "                    2.2721782443757292, 3.34431505414951],\n",
              "              mask=[False, False, False, False, False, False, False, False,\n",
              "                    False, False],\n",
              "        fill_value='?',\n",
              "             dtype=object),\n",
              " 'param_penalty': masked_array(data=['l1', 'l1', 'l1', 'l2', 'l2', 'l2', 'l2', 'l2', 'l1',\n",
              "                    'l2'],\n",
              "              mask=[False, False, False, False, False, False, False, False,\n",
              "                    False, False],\n",
              "        fill_value='?',\n",
              "             dtype=object),\n",
              " 'params': [{'C': 2.195254015709299, 'penalty': 'l1'},\n",
              "  {'C': 3.3770629943240693, 'penalty': 'l1'},\n",
              "  {'C': 2.1795327319875875, 'penalty': 'l1'},\n",
              "  {'C': 2.4942547871438894, 'penalty': 'l2'},\n",
              "  {'C': 1.75034884505077, 'penalty': 'l2'},\n",
              "  {'C': 0.22685190926977272, 'penalty': 'l2'},\n",
              "  {'C': 1.5337660753031108, 'penalty': 'l2'},\n",
              "  {'C': 3.2486749151019727, 'penalty': 'l2'},\n",
              "  {'C': 2.2721782443757292, 'penalty': 'l1'},\n",
              "  {'C': 3.34431505414951, 'penalty': 'l2'}],\n",
              " 'split0_test_score': array([1., 1., 1., 1., 1., 1., 1., 1., 1., 1.]),\n",
              " 'split1_test_score': array([1.        , 1.        , 1.        , 1.        , 1.        ,\n",
              "        0.96666667, 1.        , 1.        , 1.        , 1.        ]),\n",
              " 'split2_test_score': array([0.96666667, 0.96666667, 0.96666667, 0.96666667, 0.96666667,\n",
              "        0.93333333, 0.96666667, 0.96666667, 0.96666667, 0.96666667]),\n",
              " 'split3_test_score': array([0.93333333, 0.93333333, 0.93333333, 0.93333333, 0.93333333,\n",
              "        0.93333333, 0.93333333, 0.93333333, 0.93333333, 0.93333333]),\n",
              " 'split4_test_score': array([1., 1., 1., 1., 1., 1., 1., 1., 1., 1.]),\n",
              " 'mean_test_score': array([0.98      , 0.98      , 0.98      , 0.98      , 0.98      ,\n",
              "        0.96666667, 0.98      , 0.98      , 0.98      , 0.98      ]),\n",
              " 'std_test_score': array([0.02666667, 0.02666667, 0.02666667, 0.02666667, 0.02666667,\n",
              "        0.02981424, 0.02666667, 0.02666667, 0.02666667, 0.02666667]),\n",
              " 'rank_test_score': array([ 1,  1,  1,  1,  1, 10,  1,  1,  1,  1], dtype=int32)}"
            ]
          },
          "metadata": {},
          "execution_count": 2
        }
      ]
    }
  ]
}